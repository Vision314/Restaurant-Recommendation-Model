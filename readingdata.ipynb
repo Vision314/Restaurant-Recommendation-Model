{
 "cells": [
  {
   "cell_type": "code",
   "execution_count": 34,
   "metadata": {},
   "outputs": [],
   "source": [
    "import pandas as pd\n",
    "import numpy as np\n"
   ]
  },
  {
   "cell_type": "code",
   "execution_count": 35,
   "metadata": {},
   "outputs": [],
   "source": [
    "files_dir = \"C:\\\\Users\\\\Francesco Marrocco\\\\Desktop\\\\WPI\\\\SENIOR\\\\DS3010\\\\Project\\\\restaurant_data\"\n",
    "\n",
    "sample_size = 5000"
   ]
  },
  {
   "cell_type": "code",
   "execution_count": null,
   "metadata": {},
   "outputs": [
    {
     "name": "stderr",
     "output_type": "stream",
     "text": [
      "C:\\Users\\Francesco Marrocco\\AppData\\Local\\Temp\\ipykernel_43228\\1782764812.py:6: DtypeWarning: Columns (15,16,18,19) have mixed types. Specify dtype option on import or set low_memory=False.\n",
      "  orders =pd.read_csv(files_dir + '\\\\orders.csv',parse_dates=['created_at','delivery_date'])\n"
     ]
    }
   ],
   "source": [
    "train_cust =pd.read_csv(files_dir + '\\\\train_customers.csv',parse_dates=['created_at','updated_at'])\n",
    "test_cust =pd.read_csv(files_dir + '\\\\test_customers.csv',parse_dates=['created_at','updated_at'])\n",
    "train_loc =pd.read_csv(files_dir + '\\\\train_locations.csv')\n",
    "test_loc =pd.read_csv(files_dir + '\\\\test_locations.csv')\n",
    "vendors =pd.read_csv(files_dir + '\\\\vendors.csv',parse_dates=['created_at','updated_at'])\n",
    "orders =pd.read_csv(files_dir + '\\\\orders.csv',parse_dates=['created_at','delivery_date'])\n",
    "submission =pd.read_csv(files_dir + '\\\\SampleSubmission (1).csv')"
   ]
  },
  {
   "cell_type": "code",
   "execution_count": null,
   "metadata": {},
   "outputs": [],
   "source": []
  },
  {
   "cell_type": "code",
   "execution_count": null,
   "metadata": {},
   "outputs": [],
   "source": []
  },
  {
   "cell_type": "code",
   "execution_count": 68,
   "metadata": {},
   "outputs": [],
   "source": [
    "train_cust= train_cust.rename({'akeed_customer_id': 'customer_id'}, axis=1)\n",
    "test_cust= test_cust.rename({'akeed_customer_id': 'customer_id'}, axis=1)"
   ]
  },
  {
   "cell_type": "code",
   "execution_count": null,
   "metadata": {},
   "outputs": [
    {
     "data": {
      "text/html": [
       "<div>\n",
       "<style scoped>\n",
       "    .dataframe tbody tr th:only-of-type {\n",
       "        vertical-align: middle;\n",
       "    }\n",
       "\n",
       "    .dataframe tbody tr th {\n",
       "        vertical-align: top;\n",
       "    }\n",
       "\n",
       "    .dataframe thead th {\n",
       "        text-align: right;\n",
       "    }\n",
       "</style>\n",
       "<table border=\"1\" class=\"dataframe\">\n",
       "  <thead>\n",
       "    <tr style=\"text-align: right;\">\n",
       "      <th></th>\n",
       "      <th>customer_id</th>\n",
       "      <th>location_number</th>\n",
       "      <th>location_type</th>\n",
       "      <th>latitude</th>\n",
       "      <th>longitude</th>\n",
       "    </tr>\n",
       "  </thead>\n",
       "  <tbody>\n",
       "    <tr>\n",
       "      <th>0</th>\n",
       "      <td>02SFNJH</td>\n",
       "      <td>0</td>\n",
       "      <td>NaN</td>\n",
       "      <td>1.682392</td>\n",
       "      <td>-78.789737</td>\n",
       "    </tr>\n",
       "    <tr>\n",
       "      <th>1</th>\n",
       "      <td>02SFNJH</td>\n",
       "      <td>1</td>\n",
       "      <td>NaN</td>\n",
       "      <td>1.679137</td>\n",
       "      <td>0.766823</td>\n",
       "    </tr>\n",
       "  </tbody>\n",
       "</table>\n",
       "</div>"
      ],
      "text/plain": [
       "  customer_id  location_number location_type  latitude  longitude\n",
       "0     02SFNJH                0           NaN  1.682392 -78.789737\n",
       "1     02SFNJH                1           NaN  1.679137   0.766823"
      ]
     },
     "execution_count": 69,
     "metadata": {},
     "output_type": "execute_result"
    }
   ],
   "source": [
    "train_loc.head(2)"
   ]
  },
  {
   "cell_type": "code",
   "execution_count": 70,
   "metadata": {},
   "outputs": [
    {
     "data": {
      "text/html": [
       "<div>\n",
       "<style scoped>\n",
       "    .dataframe tbody tr th:only-of-type {\n",
       "        vertical-align: middle;\n",
       "    }\n",
       "\n",
       "    .dataframe tbody tr th {\n",
       "        vertical-align: top;\n",
       "    }\n",
       "\n",
       "    .dataframe thead th {\n",
       "        text-align: right;\n",
       "    }\n",
       "</style>\n",
       "<table border=\"1\" class=\"dataframe\">\n",
       "  <thead>\n",
       "    <tr style=\"text-align: right;\">\n",
       "      <th></th>\n",
       "      <th>customer_id</th>\n",
       "      <th>created_at</th>\n",
       "      <th>updated_at</th>\n",
       "    </tr>\n",
       "  </thead>\n",
       "  <tbody>\n",
       "    <tr>\n",
       "      <th>0</th>\n",
       "      <td>TCHWPBT</td>\n",
       "      <td>2018-02-07 19:16:23</td>\n",
       "      <td>2018-02-07 19:16:23</td>\n",
       "    </tr>\n",
       "    <tr>\n",
       "      <th>1</th>\n",
       "      <td>ZGFSYCZ</td>\n",
       "      <td>2018-02-09 12:04:42</td>\n",
       "      <td>2018-02-09 12:04:41</td>\n",
       "    </tr>\n",
       "    <tr>\n",
       "      <th>2</th>\n",
       "      <td>S2ALZFL</td>\n",
       "      <td>2018-03-14 18:31:43</td>\n",
       "      <td>2018-03-14 18:31:42</td>\n",
       "    </tr>\n",
       "    <tr>\n",
       "      <th>3</th>\n",
       "      <td>952DBJQ</td>\n",
       "      <td>2018-03-15 19:47:07</td>\n",
       "      <td>2018-03-15 19:47:07</td>\n",
       "    </tr>\n",
       "    <tr>\n",
       "      <th>4</th>\n",
       "      <td>1IX6FXS</td>\n",
       "      <td>2018-03-15 19:57:01</td>\n",
       "      <td>2018-03-15 19:57:01</td>\n",
       "    </tr>\n",
       "  </tbody>\n",
       "</table>\n",
       "</div>"
      ],
      "text/plain": [
       "  customer_id          created_at          updated_at\n",
       "0     TCHWPBT 2018-02-07 19:16:23 2018-02-07 19:16:23\n",
       "1     ZGFSYCZ 2018-02-09 12:04:42 2018-02-09 12:04:41\n",
       "2     S2ALZFL 2018-03-14 18:31:43 2018-03-14 18:31:42\n",
       "3     952DBJQ 2018-03-15 19:47:07 2018-03-15 19:47:07\n",
       "4     1IX6FXS 2018-03-15 19:57:01 2018-03-15 19:57:01"
      ]
     },
     "execution_count": 70,
     "metadata": {},
     "output_type": "execute_result"
    }
   ],
   "source": [
    "train_cust.head()"
   ]
  },
  {
   "cell_type": "code",
   "execution_count": 71,
   "metadata": {},
   "outputs": [
    {
     "data": {
      "text/html": [
       "<div>\n",
       "<style scoped>\n",
       "    .dataframe tbody tr th:only-of-type {\n",
       "        vertical-align: middle;\n",
       "    }\n",
       "\n",
       "    .dataframe tbody tr th {\n",
       "        vertical-align: top;\n",
       "    }\n",
       "\n",
       "    .dataframe thead th {\n",
       "        text-align: right;\n",
       "    }\n",
       "</style>\n",
       "<table border=\"1\" class=\"dataframe\">\n",
       "  <thead>\n",
       "    <tr style=\"text-align: right;\">\n",
       "      <th></th>\n",
       "      <th>customer_id</th>\n",
       "      <th>created_at</th>\n",
       "      <th>updated_at</th>\n",
       "    </tr>\n",
       "  </thead>\n",
       "  <tbody>\n",
       "    <tr>\n",
       "      <th>0</th>\n",
       "      <td>TCHWPBT</td>\n",
       "      <td>2018-02-07 19:16:23</td>\n",
       "      <td>2018-02-07 19:16:23</td>\n",
       "    </tr>\n",
       "    <tr>\n",
       "      <th>1</th>\n",
       "      <td>ZGFSYCZ</td>\n",
       "      <td>2018-02-09 12:04:42</td>\n",
       "      <td>2018-02-09 12:04:41</td>\n",
       "    </tr>\n",
       "    <tr>\n",
       "      <th>2</th>\n",
       "      <td>S2ALZFL</td>\n",
       "      <td>2018-03-14 18:31:43</td>\n",
       "      <td>2018-03-14 18:31:42</td>\n",
       "    </tr>\n",
       "    <tr>\n",
       "      <th>3</th>\n",
       "      <td>952DBJQ</td>\n",
       "      <td>2018-03-15 19:47:07</td>\n",
       "      <td>2018-03-15 19:47:07</td>\n",
       "    </tr>\n",
       "    <tr>\n",
       "      <th>4</th>\n",
       "      <td>1IX6FXS</td>\n",
       "      <td>2018-03-15 19:57:01</td>\n",
       "      <td>2018-03-15 19:57:01</td>\n",
       "    </tr>\n",
       "  </tbody>\n",
       "</table>\n",
       "</div>"
      ],
      "text/plain": [
       "  customer_id          created_at          updated_at\n",
       "0     TCHWPBT 2018-02-07 19:16:23 2018-02-07 19:16:23\n",
       "1     ZGFSYCZ 2018-02-09 12:04:42 2018-02-09 12:04:41\n",
       "2     S2ALZFL 2018-03-14 18:31:43 2018-03-14 18:31:42\n",
       "3     952DBJQ 2018-03-15 19:47:07 2018-03-15 19:47:07\n",
       "4     1IX6FXS 2018-03-15 19:57:01 2018-03-15 19:57:01"
      ]
     },
     "execution_count": 71,
     "metadata": {},
     "output_type": "execute_result"
    }
   ],
   "source": [
    "test_cust=test_cust[['customer_id','created_at','updated_at']]\n",
    "train_cust=train_cust[['customer_id','created_at','updated_at']];train_cust.head()"
   ]
  },
  {
   "cell_type": "code",
   "execution_count": 72,
   "metadata": {},
   "outputs": [
    {
     "name": "stdout",
     "output_type": "stream",
     "text": [
      "(34523, 3) (9753, 3) (1672000, 2) (100, 59)\n"
     ]
    }
   ],
   "source": [
    "print(train_cust.shape,test_cust.shape,submission.shape, vendors.shape)"
   ]
  },
  {
   "cell_type": "markdown",
   "metadata": {},
   "source": [
    "### DROP DUPLICATES  CUSTOMERS"
   ]
  },
  {
   "cell_type": "code",
   "execution_count": 73,
   "metadata": {},
   "outputs": [],
   "source": [
    "test_cust = test_cust.drop_duplicates(subset='customer_id', keep=\"first\")\n",
    "train_cust = train_cust.drop_duplicates(subset='customer_id', keep=\"first\")"
   ]
  },
  {
   "cell_type": "code",
   "execution_count": 74,
   "metadata": {},
   "outputs": [
    {
     "data": {
      "text/plain": [
       "(9753, 3)"
      ]
     },
     "execution_count": 74,
     "metadata": {},
     "output_type": "execute_result"
    }
   ],
   "source": [
    "test_cust.shape"
   ]
  },
  {
   "cell_type": "markdown",
   "metadata": {},
   "source": [
    "### MERGE"
   ]
  },
  {
   "cell_type": "code",
   "execution_count": 75,
   "metadata": {},
   "outputs": [],
   "source": [
    "train =pd.merge(train_cust, train_loc, on ='customer_id', how ='left')\n",
    "test =pd.merge(test_cust, test_loc, on ='customer_id', how ='left')"
   ]
  },
  {
   "cell_type": "code",
   "execution_count": 76,
   "metadata": {},
   "outputs": [
    {
     "data": {
      "text/html": [
       "<div>\n",
       "<style scoped>\n",
       "    .dataframe tbody tr th:only-of-type {\n",
       "        vertical-align: middle;\n",
       "    }\n",
       "\n",
       "    .dataframe tbody tr th {\n",
       "        vertical-align: top;\n",
       "    }\n",
       "\n",
       "    .dataframe thead th {\n",
       "        text-align: right;\n",
       "    }\n",
       "</style>\n",
       "<table border=\"1\" class=\"dataframe\">\n",
       "  <thead>\n",
       "    <tr style=\"text-align: right;\">\n",
       "      <th></th>\n",
       "      <th>customer_id</th>\n",
       "      <th>created_at</th>\n",
       "      <th>updated_at</th>\n",
       "      <th>location_number</th>\n",
       "      <th>location_type</th>\n",
       "      <th>latitude</th>\n",
       "      <th>longitude</th>\n",
       "    </tr>\n",
       "  </thead>\n",
       "  <tbody>\n",
       "    <tr>\n",
       "      <th>0</th>\n",
       "      <td>ICE2DJP</td>\n",
       "      <td>2018-02-07 16:45:36</td>\n",
       "      <td>2018-02-07 16:45:36</td>\n",
       "      <td>0</td>\n",
       "      <td>NaN</td>\n",
       "      <td>-96.407538</td>\n",
       "      <td>-67.197291</td>\n",
       "    </tr>\n",
       "    <tr>\n",
       "      <th>1</th>\n",
       "      <td>ICE2DJP</td>\n",
       "      <td>2018-02-07 16:45:36</td>\n",
       "      <td>2018-02-07 16:45:36</td>\n",
       "      <td>1</td>\n",
       "      <td>NaN</td>\n",
       "      <td>0.038654</td>\n",
       "      <td>-78.595477</td>\n",
       "    </tr>\n",
       "  </tbody>\n",
       "</table>\n",
       "</div>"
      ],
      "text/plain": [
       "  customer_id          created_at          updated_at  location_number  \\\n",
       "0     ICE2DJP 2018-02-07 16:45:36 2018-02-07 16:45:36                0   \n",
       "1     ICE2DJP 2018-02-07 16:45:36 2018-02-07 16:45:36                1   \n",
       "\n",
       "  location_type   latitude  longitude  \n",
       "0           NaN -96.407538 -67.197291  \n",
       "1           NaN   0.038654 -78.595477  "
      ]
     },
     "execution_count": 76,
     "metadata": {},
     "output_type": "execute_result"
    }
   ],
   "source": [
    "test.head(2)"
   ]
  },
  {
   "cell_type": "code",
   "execution_count": 77,
   "metadata": {},
   "outputs": [
    {
     "data": {
      "text/plain": [
       "(16317, 7)"
      ]
     },
     "execution_count": 77,
     "metadata": {},
     "output_type": "execute_result"
    }
   ],
   "source": [
    "test.shape"
   ]
  },
  {
   "cell_type": "code",
   "execution_count": 78,
   "metadata": {},
   "outputs": [
    {
     "data": {
      "text/html": [
       "<div>\n",
       "<style scoped>\n",
       "    .dataframe tbody tr th:only-of-type {\n",
       "        vertical-align: middle;\n",
       "    }\n",
       "\n",
       "    .dataframe tbody tr th {\n",
       "        vertical-align: top;\n",
       "    }\n",
       "\n",
       "    .dataframe thead th {\n",
       "        text-align: right;\n",
       "    }\n",
       "</style>\n",
       "<table border=\"1\" class=\"dataframe\">\n",
       "  <thead>\n",
       "    <tr style=\"text-align: right;\">\n",
       "      <th></th>\n",
       "      <th>id</th>\n",
       "      <th>authentication_id</th>\n",
       "      <th>latitude</th>\n",
       "      <th>longitude</th>\n",
       "      <th>vendor_category_en</th>\n",
       "      <th>vendor_category_id</th>\n",
       "      <th>delivery_charge</th>\n",
       "      <th>serving_distance</th>\n",
       "      <th>is_open</th>\n",
       "      <th>OpeningTime</th>\n",
       "      <th>...</th>\n",
       "      <th>open_close_flags</th>\n",
       "      <th>vendor_tag</th>\n",
       "      <th>vendor_tag_name</th>\n",
       "      <th>one_click_vendor</th>\n",
       "      <th>country_id</th>\n",
       "      <th>city_id</th>\n",
       "      <th>created_at</th>\n",
       "      <th>updated_at</th>\n",
       "      <th>device_type</th>\n",
       "      <th>display_orders</th>\n",
       "    </tr>\n",
       "  </thead>\n",
       "  <tbody>\n",
       "    <tr>\n",
       "      <th>0</th>\n",
       "      <td>4</td>\n",
       "      <td>118597.0</td>\n",
       "      <td>-0.588596</td>\n",
       "      <td>0.754434</td>\n",
       "      <td>Restaurants</td>\n",
       "      <td>2.0</td>\n",
       "      <td>0.0</td>\n",
       "      <td>6.0</td>\n",
       "      <td>1.0</td>\n",
       "      <td>11:00AM-11:30PM</td>\n",
       "      <td>...</td>\n",
       "      <td>1.0</td>\n",
       "      <td>2,4,5,8,91,22,12,24,16,23</td>\n",
       "      <td>Arabic,Breakfast,Burgers,Desserts,Free Deliver...</td>\n",
       "      <td>Y</td>\n",
       "      <td>1.0</td>\n",
       "      <td>1.0</td>\n",
       "      <td>2018-01-30 14:42:04</td>\n",
       "      <td>2020-04-07 15:12:43</td>\n",
       "      <td>3</td>\n",
       "      <td>1</td>\n",
       "    </tr>\n",
       "    <tr>\n",
       "      <th>1</th>\n",
       "      <td>13</td>\n",
       "      <td>118608.0</td>\n",
       "      <td>-0.471654</td>\n",
       "      <td>0.744470</td>\n",
       "      <td>Restaurants</td>\n",
       "      <td>2.0</td>\n",
       "      <td>0.7</td>\n",
       "      <td>5.0</td>\n",
       "      <td>1.0</td>\n",
       "      <td>08:30AM-10:30PM</td>\n",
       "      <td>...</td>\n",
       "      <td>1.0</td>\n",
       "      <td>4,41,51,34,27,15,24,16,28</td>\n",
       "      <td>Breakfast,Cakes,Crepes,Italian,Pasta,Pizzas,Sa...</td>\n",
       "      <td>Y</td>\n",
       "      <td>1.0</td>\n",
       "      <td>1.0</td>\n",
       "      <td>2018-05-03 12:32:06</td>\n",
       "      <td>2020-04-05 20:46:03</td>\n",
       "      <td>3</td>\n",
       "      <td>1</td>\n",
       "    </tr>\n",
       "  </tbody>\n",
       "</table>\n",
       "<p>2 rows × 59 columns</p>\n",
       "</div>"
      ],
      "text/plain": [
       "   id  authentication_id  latitude  longitude vendor_category_en  \\\n",
       "0   4           118597.0 -0.588596   0.754434        Restaurants   \n",
       "1  13           118608.0 -0.471654   0.744470        Restaurants   \n",
       "\n",
       "   vendor_category_id  delivery_charge  serving_distance  is_open  \\\n",
       "0                 2.0              0.0               6.0      1.0   \n",
       "1                 2.0              0.7               5.0      1.0   \n",
       "\n",
       "       OpeningTime  ... open_close_flags                 vendor_tag  \\\n",
       "0  11:00AM-11:30PM  ...              1.0  2,4,5,8,91,22,12,24,16,23   \n",
       "1  08:30AM-10:30PM  ...              1.0  4,41,51,34,27,15,24,16,28   \n",
       "\n",
       "                                     vendor_tag_name one_click_vendor  \\\n",
       "0  Arabic,Breakfast,Burgers,Desserts,Free Deliver...                Y   \n",
       "1  Breakfast,Cakes,Crepes,Italian,Pasta,Pizzas,Sa...                Y   \n",
       "\n",
       "   country_id  city_id          created_at          updated_at device_type  \\\n",
       "0         1.0      1.0 2018-01-30 14:42:04 2020-04-07 15:12:43           3   \n",
       "1         1.0      1.0 2018-05-03 12:32:06 2020-04-05 20:46:03           3   \n",
       "\n",
       "   display_orders  \n",
       "0               1  \n",
       "1               1  \n",
       "\n",
       "[2 rows x 59 columns]"
      ]
     },
     "execution_count": 78,
     "metadata": {},
     "output_type": "execute_result"
    }
   ],
   "source": [
    "vendors.head(2)"
   ]
  },
  {
   "cell_type": "code",
   "execution_count": 79,
   "metadata": {},
   "outputs": [],
   "source": [
    "test=test.assign(key=1).merge(vendors.assign(key=1), on='key').drop('key',axis=1)\n",
    "train=train.assign(key=1).merge(vendors.assign(key=1), on='key').drop('key',axis=1)"
   ]
  },
  {
   "cell_type": "code",
   "execution_count": 80,
   "metadata": {},
   "outputs": [
    {
     "name": "stdout",
     "output_type": "stream",
     "text": [
      "(5802400, 66) (1631700, 66) (1672000, 2)\n"
     ]
    }
   ],
   "source": [
    "print(train.shape, test.shape, submission.shape)"
   ]
  },
  {
   "cell_type": "markdown",
   "metadata": {},
   "source": [
    "# Finding common rows (intersection) in two Pandas dataframes"
   ]
  },
  {
   "cell_type": "code",
   "execution_count": 81,
   "metadata": {},
   "outputs": [
    {
     "data": {
      "text/plain": [
       "Index(['CID X LOC_NUM X VENDOR', 'target'], dtype='object')"
      ]
     },
     "execution_count": 81,
     "metadata": {},
     "output_type": "execute_result"
    }
   ],
   "source": [
    "submission.columns"
   ]
  },
  {
   "cell_type": "code",
   "execution_count": 82,
   "metadata": {},
   "outputs": [],
   "source": [
    "test['location_number_obj']=test['location_number'].astype(str)\n",
    "test['id_obj']=test['id'].astype(str)\n",
    "train['location_number_obj']=train['location_number'].astype(str)\n",
    "train['id_obj']=train['id'].astype(str)"
   ]
  },
  {
   "cell_type": "code",
   "execution_count": 83,
   "metadata": {},
   "outputs": [],
   "source": [
    "test['CID X LOC_NUM X VENDOR'] = test['customer_id'] +' X '+ test['location_number_obj'] +' X '+ test['id_obj']\n",
    "train['CID X LOC_NUM X VENDOR'] = train['customer_id'] +' X '+ train['location_number_obj'] +' X '+ train['id_obj']"
   ]
  },
  {
   "cell_type": "code",
   "execution_count": 84,
   "metadata": {},
   "outputs": [],
   "source": [
    "test = pd.merge(test, submission, how='outer', on=['CID X LOC_NUM X VENDOR'])"
   ]
  },
  {
   "cell_type": "code",
   "execution_count": 85,
   "metadata": {},
   "outputs": [
    {
     "name": "stdout",
     "output_type": "stream",
     "text": [
      "(1672000, 70) (1672000, 2) (5802400, 69)\n"
     ]
    }
   ],
   "source": [
    "print(test.shape, submission.shape, train.shape)"
   ]
  },
  {
   "cell_type": "code",
   "execution_count": 86,
   "metadata": {},
   "outputs": [],
   "source": [
    "all_services = orders['CID X LOC_NUM X VENDOR'].values.tolist()\n",
    "train['target']= train['CID X LOC_NUM X VENDOR'].isin(all_services).astype(int).values"
   ]
  },
  {
   "cell_type": "code",
   "execution_count": 87,
   "metadata": {},
   "outputs": [
    {
     "data": {
      "text/plain": [
       "target\n",
       "0    5724146\n",
       "1      78254\n",
       "Name: count, dtype: int64"
      ]
     },
     "execution_count": 87,
     "metadata": {},
     "output_type": "execute_result"
    }
   ],
   "source": [
    "train['target'].value_counts()"
   ]
  },
  {
   "cell_type": "code",
   "execution_count": 88,
   "metadata": {},
   "outputs": [],
   "source": [
    "test.drop('target', axis=1, inplace =True)"
   ]
  },
  {
   "cell_type": "code",
   "execution_count": 89,
   "metadata": {},
   "outputs": [
    {
     "name": "stdout",
     "output_type": "stream",
     "text": [
      "(1672000, 69) (5802400, 70)\n"
     ]
    }
   ],
   "source": [
    "print(test.shape,train.shape)"
   ]
  },
  {
   "cell_type": "code",
   "execution_count": 90,
   "metadata": {},
   "outputs": [],
   "source": [
    "## Reduce memory usage\n",
    "def reduce_mem_usage(df, verbose=True):\n",
    "    numerics = ['int16', 'int32', 'int64', 'float16', 'float32', 'float64']\n",
    "    start_mem = df.memory_usage().sum() / 1024**2    \n",
    "    for col in df.columns:\n",
    "        col_type = df[col].dtypes\n",
    "        if col_type in numerics:\n",
    "            c_min = df[col].min()\n",
    "            c_max = df[col].max()\n",
    "            if str(col_type)[:3] == 'int':\n",
    "                if c_min > np.iinfo(np.int8).min and c_max < np.iinfo(np.int8).max:\n",
    "                    df[col] = df[col].astype(np.int8)\n",
    "                elif c_min > np.iinfo(np.int16).min and c_max < np.iinfo(np.int16).max:\n",
    "                    df[col] = df[col].astype(np.int16)\n",
    "                elif c_min > np.iinfo(np.int32).min and c_max < np.iinfo(np.int32).max:\n",
    "                    df[col] = df[col].astype(np.int32)\n",
    "                elif c_min > np.iinfo(np.int64).min and c_max < np.iinfo(np.int64).max:\n",
    "                    df[col] = df[col].astype(np.int64)  \n",
    "            else:\n",
    "                if c_min > np.finfo(np.float16).min and c_max < np.finfo(np.float16).max:\n",
    "                    df[col] = df[col].astype(np.float16)\n",
    "                elif c_min > np.finfo(np.float32).min and c_max < np.finfo(np.float32).max:\n",
    "                    df[col] = df[col].astype(np.float32)\n",
    "                else:\n",
    "                    df[col] = df[col].astype(np.float64)    \n",
    "    end_mem = df.memory_usage().sum() / 1024**2\n",
    "    if verbose: print('Mem. usage decreased to {:5.2f} Mb ({:.1f}% reduction)'.format(end_mem, 100 * (start_mem - end_mem) / start_mem))\n",
    "    return df"
   ]
  },
  {
   "cell_type": "code",
   "execution_count": 91,
   "metadata": {},
   "outputs": [
    {
     "name": "stdout",
     "output_type": "stream",
     "text": [
      "Mem. usage decreased to 2274.31 Mb (26.1% reduction)\n",
      "Mem. usage decreased to 663.33 Mb (24.6% reduction)\n"
     ]
    }
   ],
   "source": [
    "train = reduce_mem_usage(train)\n",
    "test = reduce_mem_usage(test)"
   ]
  },
  {
   "cell_type": "code",
   "execution_count": 93,
   "metadata": {},
   "outputs": [],
   "source": [
    "train.to_csv('train.csv', index =False) \n",
    "test.to_csv('test.csv', index =False)"
   ]
  },
  {
   "cell_type": "code",
   "execution_count": 95,
   "metadata": {},
   "outputs": [
    {
     "data": {
      "text/html": [
       "<div>\n",
       "<style scoped>\n",
       "    .dataframe tbody tr th:only-of-type {\n",
       "        vertical-align: middle;\n",
       "    }\n",
       "\n",
       "    .dataframe tbody tr th {\n",
       "        vertical-align: top;\n",
       "    }\n",
       "\n",
       "    .dataframe thead th {\n",
       "        text-align: right;\n",
       "    }\n",
       "</style>\n",
       "<table border=\"1\" class=\"dataframe\">\n",
       "  <thead>\n",
       "    <tr style=\"text-align: right;\">\n",
       "      <th></th>\n",
       "      <th>customer_id</th>\n",
       "      <th>created_at_x</th>\n",
       "      <th>updated_at_x</th>\n",
       "      <th>location_number</th>\n",
       "      <th>location_type</th>\n",
       "      <th>latitude_x</th>\n",
       "      <th>longitude_x</th>\n",
       "      <th>id</th>\n",
       "      <th>authentication_id</th>\n",
       "      <th>latitude_y</th>\n",
       "      <th>...</th>\n",
       "      <th>country_id</th>\n",
       "      <th>city_id</th>\n",
       "      <th>created_at_y</th>\n",
       "      <th>updated_at_y</th>\n",
       "      <th>device_type</th>\n",
       "      <th>display_orders</th>\n",
       "      <th>location_number_obj</th>\n",
       "      <th>id_obj</th>\n",
       "      <th>CID X LOC_NUM X VENDOR</th>\n",
       "      <th>target</th>\n",
       "    </tr>\n",
       "  </thead>\n",
       "  <tbody>\n",
       "    <tr>\n",
       "      <th>4660940</th>\n",
       "      <td>TK7Z1BT</td>\n",
       "      <td>2019-11-28 14:56:30</td>\n",
       "      <td>2019-11-28 14:56:47</td>\n",
       "      <td>2</td>\n",
       "      <td>Home</td>\n",
       "      <td>-0.046783</td>\n",
       "      <td>0.564453</td>\n",
       "      <td>188</td>\n",
       "      <td>118786.0</td>\n",
       "      <td>-0.405762</td>\n",
       "      <td>...</td>\n",
       "      <td>1.0</td>\n",
       "      <td>1.0</td>\n",
       "      <td>2019-03-03 21:04:26</td>\n",
       "      <td>2020-04-03 16:56:31</td>\n",
       "      <td>3</td>\n",
       "      <td>1</td>\n",
       "      <td>2</td>\n",
       "      <td>188</td>\n",
       "      <td>TK7Z1BT X 2 X 188</td>\n",
       "      <td>0</td>\n",
       "    </tr>\n",
       "    <tr>\n",
       "      <th>4719208</th>\n",
       "      <td>FAGDQ9H</td>\n",
       "      <td>2019-12-06 19:03:14</td>\n",
       "      <td>2019-12-06 19:03:20</td>\n",
       "      <td>0</td>\n",
       "      <td>NaN</td>\n",
       "      <td>-0.765137</td>\n",
       "      <td>0.219238</td>\n",
       "      <td>55</td>\n",
       "      <td>118651.0</td>\n",
       "      <td>-1.169922</td>\n",
       "      <td>...</td>\n",
       "      <td>1.0</td>\n",
       "      <td>1.0</td>\n",
       "      <td>2018-07-22 13:18:35</td>\n",
       "      <td>2020-04-02 19:49:47</td>\n",
       "      <td>3</td>\n",
       "      <td>1</td>\n",
       "      <td>0</td>\n",
       "      <td>55</td>\n",
       "      <td>FAGDQ9H X 0 X 55</td>\n",
       "      <td>0</td>\n",
       "    </tr>\n",
       "    <tr>\n",
       "      <th>1585470</th>\n",
       "      <td>YMH60S4</td>\n",
       "      <td>2018-12-26 21:46:25</td>\n",
       "      <td>2018-12-26 21:46:24</td>\n",
       "      <td>0</td>\n",
       "      <td>Home</td>\n",
       "      <td>0.077148</td>\n",
       "      <td>-78.625000</td>\n",
       "      <td>303</td>\n",
       "      <td>118905.0</td>\n",
       "      <td>0.005749</td>\n",
       "      <td>...</td>\n",
       "      <td>1.0</td>\n",
       "      <td>1.0</td>\n",
       "      <td>2019-07-02 14:50:31</td>\n",
       "      <td>2020-03-31 13:23:57</td>\n",
       "      <td>3</td>\n",
       "      <td>1</td>\n",
       "      <td>0</td>\n",
       "      <td>303</td>\n",
       "      <td>YMH60S4 X 0 X 303</td>\n",
       "      <td>0</td>\n",
       "    </tr>\n",
       "    <tr>\n",
       "      <th>4873768</th>\n",
       "      <td>NB1A8ET</td>\n",
       "      <td>2019-12-24 20:14:21</td>\n",
       "      <td>2019-12-24 20:14:46</td>\n",
       "      <td>0</td>\n",
       "      <td>Other</td>\n",
       "      <td>-0.043976</td>\n",
       "      <td>0.523438</td>\n",
       "      <td>299</td>\n",
       "      <td>118901.0</td>\n",
       "      <td>-0.818848</td>\n",
       "      <td>...</td>\n",
       "      <td>1.0</td>\n",
       "      <td>1.0</td>\n",
       "      <td>2019-06-29 13:12:01</td>\n",
       "      <td>2020-03-27 17:16:34</td>\n",
       "      <td>3</td>\n",
       "      <td>1</td>\n",
       "      <td>0</td>\n",
       "      <td>299</td>\n",
       "      <td>NB1A8ET X 0 X 299</td>\n",
       "      <td>0</td>\n",
       "    </tr>\n",
       "    <tr>\n",
       "      <th>273431</th>\n",
       "      <td>V8LQURR</td>\n",
       "      <td>2018-08-24 21:29:34</td>\n",
       "      <td>2018-08-24 21:29:33</td>\n",
       "      <td>2</td>\n",
       "      <td>NaN</td>\n",
       "      <td>0.020309</td>\n",
       "      <td>0.445801</td>\n",
       "      <td>148</td>\n",
       "      <td>118745.0</td>\n",
       "      <td>-0.482910</td>\n",
       "      <td>...</td>\n",
       "      <td>1.0</td>\n",
       "      <td>1.0</td>\n",
       "      <td>2018-12-30 20:20:31</td>\n",
       "      <td>2020-04-07 00:36:36</td>\n",
       "      <td>3</td>\n",
       "      <td>1</td>\n",
       "      <td>2</td>\n",
       "      <td>148</td>\n",
       "      <td>V8LQURR X 2 X 148</td>\n",
       "      <td>0</td>\n",
       "    </tr>\n",
       "    <tr>\n",
       "      <th>5055810</th>\n",
       "      <td>XXZ8VW2</td>\n",
       "      <td>2020-01-16 16:57:12</td>\n",
       "      <td>2020-01-16 16:57:40</td>\n",
       "      <td>0</td>\n",
       "      <td>Home</td>\n",
       "      <td>12.000000</td>\n",
       "      <td>-1.391602</td>\n",
       "      <td>67</td>\n",
       "      <td>118663.0</td>\n",
       "      <td>-0.181030</td>\n",
       "      <td>...</td>\n",
       "      <td>1.0</td>\n",
       "      <td>1.0</td>\n",
       "      <td>2018-08-09 23:41:57</td>\n",
       "      <td>2020-04-07 12:25:19</td>\n",
       "      <td>3</td>\n",
       "      <td>1</td>\n",
       "      <td>0</td>\n",
       "      <td>67</td>\n",
       "      <td>XXZ8VW2 X 0 X 67</td>\n",
       "      <td>0</td>\n",
       "    </tr>\n",
       "    <tr>\n",
       "      <th>3932192</th>\n",
       "      <td>PW825TQ</td>\n",
       "      <td>2019-09-21 23:31:20</td>\n",
       "      <td>2019-11-16 16:37:25</td>\n",
       "      <td>0</td>\n",
       "      <td>Other</td>\n",
       "      <td>0.657715</td>\n",
       "      <td>-78.687500</td>\n",
       "      <td>843</td>\n",
       "      <td>130447.0</td>\n",
       "      <td>-1.269531</td>\n",
       "      <td>...</td>\n",
       "      <td>1.0</td>\n",
       "      <td>1.0</td>\n",
       "      <td>2019-12-21 12:31:16</td>\n",
       "      <td>2020-04-07 19:01:17</td>\n",
       "      <td>3</td>\n",
       "      <td>1</td>\n",
       "      <td>0</td>\n",
       "      <td>843</td>\n",
       "      <td>PW825TQ X 0 X 843</td>\n",
       "      <td>0</td>\n",
       "    </tr>\n",
       "    <tr>\n",
       "      <th>5546313</th>\n",
       "      <td>L31M6ST</td>\n",
       "      <td>2020-02-12 15:59:47</td>\n",
       "      <td>2020-02-12 15:59:49</td>\n",
       "      <td>0</td>\n",
       "      <td>NaN</td>\n",
       "      <td>-0.031311</td>\n",
       "      <td>-0.055542</td>\n",
       "      <td>78</td>\n",
       "      <td>118675.0</td>\n",
       "      <td>-0.555176</td>\n",
       "      <td>...</td>\n",
       "      <td>1.0</td>\n",
       "      <td>1.0</td>\n",
       "      <td>2018-08-26 21:47:55</td>\n",
       "      <td>2020-03-31 22:16:15</td>\n",
       "      <td>3</td>\n",
       "      <td>1</td>\n",
       "      <td>0</td>\n",
       "      <td>78</td>\n",
       "      <td>L31M6ST X 0 X 78</td>\n",
       "      <td>0</td>\n",
       "    </tr>\n",
       "    <tr>\n",
       "      <th>3248294</th>\n",
       "      <td>KQ83228</td>\n",
       "      <td>2019-07-18 14:40:02</td>\n",
       "      <td>2019-10-01 18:51:01</td>\n",
       "      <td>0</td>\n",
       "      <td>Home</td>\n",
       "      <td>-1.179688</td>\n",
       "      <td>-78.437500</td>\n",
       "      <td>846</td>\n",
       "      <td>130451.0</td>\n",
       "      <td>-0.441895</td>\n",
       "      <td>...</td>\n",
       "      <td>1.0</td>\n",
       "      <td>1.0</td>\n",
       "      <td>2019-12-21 12:40:36</td>\n",
       "      <td>2020-04-06 16:19:44</td>\n",
       "      <td>3</td>\n",
       "      <td>1</td>\n",
       "      <td>0</td>\n",
       "      <td>846</td>\n",
       "      <td>KQ83228 X 0 X 846</td>\n",
       "      <td>0</td>\n",
       "    </tr>\n",
       "    <tr>\n",
       "      <th>1668574</th>\n",
       "      <td>GNRGEX3</td>\n",
       "      <td>2019-01-05 18:24:57</td>\n",
       "      <td>2019-01-05 18:24:57</td>\n",
       "      <td>1</td>\n",
       "      <td>Work</td>\n",
       "      <td>-0.358398</td>\n",
       "      <td>0.113220</td>\n",
       "      <td>386</td>\n",
       "      <td>118989.0</td>\n",
       "      <td>-1.001953</td>\n",
       "      <td>...</td>\n",
       "      <td>1.0</td>\n",
       "      <td>1.0</td>\n",
       "      <td>2019-08-07 15:36:33</td>\n",
       "      <td>2020-04-08 03:45:41</td>\n",
       "      <td>3</td>\n",
       "      <td>1</td>\n",
       "      <td>1</td>\n",
       "      <td>386</td>\n",
       "      <td>GNRGEX3 X 1 X 386</td>\n",
       "      <td>1</td>\n",
       "    </tr>\n",
       "  </tbody>\n",
       "</table>\n",
       "<p>10 rows × 70 columns</p>\n",
       "</div>"
      ],
      "text/plain": [
       "        customer_id        created_at_x        updated_at_x  location_number  \\\n",
       "4660940     TK7Z1BT 2019-11-28 14:56:30 2019-11-28 14:56:47                2   \n",
       "4719208     FAGDQ9H 2019-12-06 19:03:14 2019-12-06 19:03:20                0   \n",
       "1585470     YMH60S4 2018-12-26 21:46:25 2018-12-26 21:46:24                0   \n",
       "4873768     NB1A8ET 2019-12-24 20:14:21 2019-12-24 20:14:46                0   \n",
       "273431      V8LQURR 2018-08-24 21:29:34 2018-08-24 21:29:33                2   \n",
       "5055810     XXZ8VW2 2020-01-16 16:57:12 2020-01-16 16:57:40                0   \n",
       "3932192     PW825TQ 2019-09-21 23:31:20 2019-11-16 16:37:25                0   \n",
       "5546313     L31M6ST 2020-02-12 15:59:47 2020-02-12 15:59:49                0   \n",
       "3248294     KQ83228 2019-07-18 14:40:02 2019-10-01 18:51:01                0   \n",
       "1668574     GNRGEX3 2019-01-05 18:24:57 2019-01-05 18:24:57                1   \n",
       "\n",
       "        location_type  latitude_x  longitude_x   id  authentication_id  \\\n",
       "4660940          Home   -0.046783     0.564453  188           118786.0   \n",
       "4719208           NaN   -0.765137     0.219238   55           118651.0   \n",
       "1585470          Home    0.077148   -78.625000  303           118905.0   \n",
       "4873768         Other   -0.043976     0.523438  299           118901.0   \n",
       "273431            NaN    0.020309     0.445801  148           118745.0   \n",
       "5055810          Home   12.000000    -1.391602   67           118663.0   \n",
       "3932192         Other    0.657715   -78.687500  843           130447.0   \n",
       "5546313           NaN   -0.031311    -0.055542   78           118675.0   \n",
       "3248294          Home   -1.179688   -78.437500  846           130451.0   \n",
       "1668574          Work   -0.358398     0.113220  386           118989.0   \n",
       "\n",
       "         latitude_y  ...  country_id city_id        created_at_y  \\\n",
       "4660940   -0.405762  ...         1.0     1.0 2019-03-03 21:04:26   \n",
       "4719208   -1.169922  ...         1.0     1.0 2018-07-22 13:18:35   \n",
       "1585470    0.005749  ...         1.0     1.0 2019-07-02 14:50:31   \n",
       "4873768   -0.818848  ...         1.0     1.0 2019-06-29 13:12:01   \n",
       "273431    -0.482910  ...         1.0     1.0 2018-12-30 20:20:31   \n",
       "5055810   -0.181030  ...         1.0     1.0 2018-08-09 23:41:57   \n",
       "3932192   -1.269531  ...         1.0     1.0 2019-12-21 12:31:16   \n",
       "5546313   -0.555176  ...         1.0     1.0 2018-08-26 21:47:55   \n",
       "3248294   -0.441895  ...         1.0     1.0 2019-12-21 12:40:36   \n",
       "1668574   -1.001953  ...         1.0     1.0 2019-08-07 15:36:33   \n",
       "\n",
       "               updated_at_y  device_type  display_orders location_number_obj  \\\n",
       "4660940 2020-04-03 16:56:31            3               1                   2   \n",
       "4719208 2020-04-02 19:49:47            3               1                   0   \n",
       "1585470 2020-03-31 13:23:57            3               1                   0   \n",
       "4873768 2020-03-27 17:16:34            3               1                   0   \n",
       "273431  2020-04-07 00:36:36            3               1                   2   \n",
       "5055810 2020-04-07 12:25:19            3               1                   0   \n",
       "3932192 2020-04-07 19:01:17            3               1                   0   \n",
       "5546313 2020-03-31 22:16:15            3               1                   0   \n",
       "3248294 2020-04-06 16:19:44            3               1                   0   \n",
       "1668574 2020-04-08 03:45:41            3               1                   1   \n",
       "\n",
       "        id_obj  CID X LOC_NUM X VENDOR  target  \n",
       "4660940    188       TK7Z1BT X 2 X 188       0  \n",
       "4719208     55        FAGDQ9H X 0 X 55       0  \n",
       "1585470    303       YMH60S4 X 0 X 303       0  \n",
       "4873768    299       NB1A8ET X 0 X 299       0  \n",
       "273431     148       V8LQURR X 2 X 148       0  \n",
       "5055810     67        XXZ8VW2 X 0 X 67       0  \n",
       "3932192    843       PW825TQ X 0 X 843       0  \n",
       "5546313     78        L31M6ST X 0 X 78       0  \n",
       "3248294    846       KQ83228 X 0 X 846       0  \n",
       "1668574    386       GNRGEX3 X 1 X 386       1  \n",
       "\n",
       "[10 rows x 70 columns]"
      ]
     },
     "execution_count": 95,
     "metadata": {},
     "output_type": "execute_result"
    }
   ],
   "source": [
    "train.sample(10)"
   ]
  },
  {
   "cell_type": "code",
   "execution_count": null,
   "metadata": {},
   "outputs": [],
   "source": []
  }
 ],
 "metadata": {
  "kernelspec": {
   "display_name": "Python 3",
   "language": "python",
   "name": "python3"
  },
  "language_info": {
   "codemirror_mode": {
    "name": "ipython",
    "version": 3
   },
   "file_extension": ".py",
   "mimetype": "text/x-python",
   "name": "python",
   "nbconvert_exporter": "python",
   "pygments_lexer": "ipython3",
   "version": "3.12.4"
  }
 },
 "nbformat": 4,
 "nbformat_minor": 2
}
