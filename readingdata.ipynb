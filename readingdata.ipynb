{
 "cells": [
  {
   "cell_type": "code",
   "execution_count": 1,
   "metadata": {},
   "outputs": [],
   "source": [
    "import pandas\n",
    "import numpy as np\n"
   ]
  },
  {
   "cell_type": "code",
   "execution_count": 3,
   "metadata": {},
   "outputs": [],
   "source": [
    "files_dir = \"C:\\\\Users\\\\Francesco Marrocco\\\\Desktop\\\\WPI\\\\SENIOR\\\\DS3010\\\\Project\\\\restaurant_data\""
   ]
  },
  {
   "cell_type": "code",
   "execution_count": null,
   "metadata": {},
   "outputs": [
    {
     "name": "stderr",
     "output_type": "stream",
     "text": [
      "C:\\Users\\Francesco Marrocco\\AppData\\Local\\Temp\\ipykernel_59796\\1576698436.py:4: DtypeWarning: Columns (1) have mixed types. Specify dtype option on import or set low_memory=False.\n",
      "  train_full = pandas.read_csv(files_dir + \"\\\\train_full.csv\")\n"
     ]
    },
    {
     "name": "stdout",
     "output_type": "stream",
     "text": [
      "  customer_id gender  status_x  verified_x         created_at_x  \\\n",
      "0     TCHWPBT   Male         1           1  2018-02-07 19:16:23   \n",
      "1     TCHWPBT   Male         1           1  2018-02-07 19:16:23   \n",
      "2     TCHWPBT   Male         1           1  2018-02-07 19:16:23   \n",
      "3     TCHWPBT   Male         1           1  2018-02-07 19:16:23   \n",
      "4     TCHWPBT   Male         1           1  2018-02-07 19:16:23   \n",
      "\n",
      "          updated_at_x  location_number location_type  latitude_x  \\\n",
      "0  2018-02-07 19:16:23                0          Work      -96.44   \n",
      "1  2018-02-07 19:16:23                0          Work      -96.44   \n",
      "2  2018-02-07 19:16:23                0          Work      -96.44   \n",
      "3  2018-02-07 19:16:23                0          Work      -96.44   \n",
      "4  2018-02-07 19:16:23                0          Work      -96.44   \n",
      "\n",
      "   longitude_x  ...  country_id  city_id         created_at_y  \\\n",
      "0        -67.2  ...         1.0      1.0  2018-01-30 14:42:04   \n",
      "1        -67.2  ...         1.0      1.0  2018-05-03 12:32:06   \n",
      "2        -67.2  ...         1.0      1.0  2018-05-04 22:28:22   \n",
      "3        -67.2  ...         1.0      1.0  2018-05-06 19:20:48   \n",
      "4        -67.2  ...         1.0      1.0  2018-05-17 22:12:38   \n",
      "\n",
      "          updated_at_y device_type  display_orders  location_number_obj  \\\n",
      "0  2020-04-07 15:12:43           3               1                    0   \n",
      "1  2020-04-05 20:46:03           3               1                    0   \n",
      "2  2020-04-07 16:35:55           3               1                    0   \n",
      "3  2020-04-02 00:56:17           3               1                    0   \n",
      "4  2020-04-05 15:57:41           3               1                    0   \n",
      "\n",
      "   id_obj  CID X LOC_NUM X VENDOR target  \n",
      "0       4         TCHWPBT X 0 X 4      0  \n",
      "1      13        TCHWPBT X 0 X 13      0  \n",
      "2      20        TCHWPBT X 0 X 20      0  \n",
      "3      23        TCHWPBT X 0 X 23      0  \n",
      "4      28        TCHWPBT X 0 X 28      0  \n",
      "\n",
      "[5 rows x 73 columns]\n"
     ]
    }
   ],
   "source": [
    "# open csv files and store them in a pandas dataset?\n",
    "\n",
    "# read the csv files\n",
    "train_full = pandas.read_csv(files_dir + \"\\\\train_full.csv\")\n",
    "\n",
    "# print the first 5 rows of the dataset\n",
    "print(train_full.head())\n",
    "\n",
    "# print the df into a nice chart\n",
    "print(train_full.describe())\n",
    "\n",
    "\n",
    "\n"
   ]
  },
  {
   "cell_type": "code",
   "execution_count": null,
   "metadata": {},
   "outputs": [],
   "source": []
  }
 ],
 "metadata": {
  "kernelspec": {
   "display_name": "Python 3",
   "language": "python",
   "name": "python3"
  },
  "language_info": {
   "codemirror_mode": {
    "name": "ipython",
    "version": 3
   },
   "file_extension": ".py",
   "mimetype": "text/x-python",
   "name": "python",
   "nbconvert_exporter": "python",
   "pygments_lexer": "ipython3",
   "version": "3.12.4"
  }
 },
 "nbformat": 4,
 "nbformat_minor": 2
}
