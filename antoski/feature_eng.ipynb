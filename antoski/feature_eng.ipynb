{
 "cells": [
  {
   "cell_type": "markdown",
   "metadata": {},
   "source": [
    "### Feature engineering using orders and vendors information ###\n",
    "\n",
    "During our initial analysis we decided to remove many columns from train_full. Here we will be adding in columns based on vendor and order information that matches with the customer and vendor in question. \n",
    "\n",
    "Below is a list of features we want to add: \n",
    "- Has ordered here before: binary (orders.csv) \n",
    "- Grand total: Average across customer’s order from vendor. (orders.csv) \n",
    "- Is_favorite: Set missing equal to 0, 1 otherwise. (orders.csv) \n",
    "- Distance between customer location and vendor location (train_full) \n",
    "- Number of times customer has ordered from this vendor tag (orders.csv) \n",
    "- One-hot encoding of vendor tag (train_full/vendors.csv) \n",
    "- Is_rated and vendor_rating (orders.csv) "
   ]
  },
  {
   "cell_type": "code",
   "execution_count": null,
   "metadata": {},
   "outputs": [
    {
     "name": "stdout",
     "output_type": "stream",
     "text": [
      "Index(['akeed_order_id', 'customer_id', 'item_count', 'grand_total',\n",
      "       'payment_mode', 'promo_code', 'vendor_discount_amount',\n",
      "       'promo_code_discount_percentage', 'is_favorite', 'is_rated',\n",
      "       'vendor_rating', 'driver_rating', 'deliverydistance', 'preparationtime',\n",
      "       'delivery_time', 'order_accepted_time', 'driver_accepted_time',\n",
      "       'ready_for_pickup_time', 'picked_up_time', 'delivered_time',\n",
      "       'delivery_date', 'vendor_id', 'created_at', 'LOCATION_NUMBER',\n",
      "       'LOCATION_TYPE', 'CID X LOC_NUM X VENDOR'],\n",
      "      dtype='object')\n",
      "Index(['id', 'latitude', 'longitude', 'vendor_category_id', 'delivery_charge',\n",
      "       'serving_distance', 'prepration_time', 'discount_percentage', 'status',\n",
      "       'verified', 'vendor_rating', 'vendor_tag', 'vendor_tag_name',\n",
      "       'created_at', 'updated_at'],\n",
      "      dtype='object')\n"
     ]
    },
    {
     "name": "stderr",
     "output_type": "stream",
     "text": [
      "/var/folders/9t/xpbsmtsx0xzbs7_6z34b_5yr0000gn/T/ipykernel_92016/1641897437.py:5: DtypeWarning: Columns (15,16,18,19,20) have mixed types. Specify dtype option on import or set low_memory=False.\n",
      "  orders = pd.read_csv('../data/orders.csv')\n"
     ]
    }
   ],
   "source": [
    "import pandas as pd\n",
    "import numpy as np\n",
    "\n",
    "# Read in CSV\n",
    "orders = pd.read_csv('../data/orders.csv')\n",
    "vendors = pd.read_csv('../data/vendors.csv')\n",
    "\n",
    "# Gathering the list of columns we removed from train_full.csv\n",
    "columns = ['is_open', 'status_y', 'device_type', 'verified_y', 'commission', 'is_akeed_delivering', 'language', 'open_close_flags', 'one_click_vendor', 'country_id', 'city_id', 'display_orders', 'gender', 'location_type', 'OpeningTime', 'OpeningTime2', 'sunday_from_time1', 'sunday_to_time1', 'sunday_from_time2', 'sunday_to_time2', 'monday_from_time1', 'monday_to_time1', 'monday_from_time2', 'monday_to_time2', 'tuesday_from_time1', 'tuesday_to_time1', 'tuesday_from_time2', 'tuesday_to_time2', 'wednesday_from_time1', 'wednesday_to_time1', 'wednesday_from_time2', 'wednesday_to_time2', 'thursday_from_time1', 'thursday_to_time1', 'thursday_from_time2', 'thursday_to_time2', 'friday_from_time1', 'friday_to_time1', 'friday_from_time2', 'friday_to_time2', 'saturday_from_time1', 'saturday_to_time1', 'saturday_from_time2', 'saturday_to_time2', 'primary_tags', 'status_x', 'verified_x', 'created_at_x', 'updated_at_x', 'authentication_id', 'vendor_category_en', 'rank', 'created_at_y', 'updated_at_y']\n",
    "\n",
    "# Drop columns from the dataframes if they were removed from train_full.csv\n",
    "for col in columns:\n",
    "    if col in orders.columns:\n",
    "        orders = orders.drop(col, axis=1)\n",
    "    if col in vendors.columns:\n",
    "        vendors = vendors.drop(col, axis=1)\n",
    "    \n",
    "        \n",
    "# Drop rows in orders where the location_number != 0\n",
    "orders = orders[orders['LOCATION_NUMBER'] == 0]\n",
    "\n",
    "print(\"Cleaned up dataframes columns\")\n",
    "print(orders.columns)\n",
    "print(vendors.columns)"
   ]
  },
  {
   "cell_type": "markdown",
   "metadata": {},
   "source": []
  },
  {
   "cell_type": "code",
   "execution_count": null,
   "metadata": {},
   "outputs": [],
   "source": [
    "# print(orders['LOCATION_NUMBER'].value_counts())\n",
    "print(orders['is_rated'].value_counts())\n",
    "print(orders['vendor_rating'].value_counts())"
   ]
  }
 ],
 "metadata": {
  "kernelspec": {
   "display_name": "rrr",
   "language": "python",
   "name": "python3"
  },
  "language_info": {
   "codemirror_mode": {
    "name": "ipython",
    "version": 3
   },
   "file_extension": ".py",
   "mimetype": "text/x-python",
   "name": "python",
   "nbconvert_exporter": "python",
   "pygments_lexer": "ipython3",
   "version": "3.13.0"
  }
 },
 "nbformat": 4,
 "nbformat_minor": 2
}
