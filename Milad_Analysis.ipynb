{
 "cells": [
  {
   "cell_type": "code",
   "execution_count": 1,
   "metadata": {},
   "outputs": [],
   "source": [
    "import pandas\n",
    "import numpy as np"
   ]
  },
  {
   "cell_type": "code",
   "execution_count": 2,
   "metadata": {},
   "outputs": [],
   "source": [
    "# Load the data\n",
    "file_path = './data/train_full.csv'\n"
   ]
  },
  {
   "cell_type": "code",
   "execution_count": 3,
   "metadata": {},
   "outputs": [
    {
     "name": "stderr",
     "output_type": "stream",
     "text": [
      "/var/folders/9t/xpbsmtsx0xzbs7_6z34b_5yr0000gn/T/ipykernel_11957/3686607462.py:4: DtypeWarning: Columns (1) have mixed types. Specify dtype option on import or set low_memory=False.\n",
      "  train_full = pandas.read_csv(file_path)\n"
     ]
    },
    {
     "name": "stdout",
     "output_type": "stream",
     "text": [
      "  customer_id gender  status_x  verified_x         created_at_x  \\\n",
      "0     TCHWPBT   Male         1           1  2018-02-07 19:16:23   \n",
      "1     TCHWPBT   Male         1           1  2018-02-07 19:16:23   \n",
      "2     TCHWPBT   Male         1           1  2018-02-07 19:16:23   \n",
      "3     TCHWPBT   Male         1           1  2018-02-07 19:16:23   \n",
      "4     TCHWPBT   Male         1           1  2018-02-07 19:16:23   \n",
      "\n",
      "          updated_at_x  location_number location_type  latitude_x  \\\n",
      "0  2018-02-07 19:16:23                0          Work      -96.44   \n",
      "1  2018-02-07 19:16:23                0          Work      -96.44   \n",
      "2  2018-02-07 19:16:23                0          Work      -96.44   \n",
      "3  2018-02-07 19:16:23                0          Work      -96.44   \n",
      "4  2018-02-07 19:16:23                0          Work      -96.44   \n",
      "\n",
      "   longitude_x  ...  country_id  city_id         created_at_y  \\\n",
      "0        -67.2  ...         1.0      1.0  2018-01-30 14:42:04   \n",
      "1        -67.2  ...         1.0      1.0  2018-05-03 12:32:06   \n",
      "2        -67.2  ...         1.0      1.0  2018-05-04 22:28:22   \n",
      "3        -67.2  ...         1.0      1.0  2018-05-06 19:20:48   \n",
      "4        -67.2  ...         1.0      1.0  2018-05-17 22:12:38   \n",
      "\n",
      "          updated_at_y device_type  display_orders  location_number_obj  \\\n",
      "0  2020-04-07 15:12:43           3               1                    0   \n",
      "1  2020-04-05 20:46:03           3               1                    0   \n",
      "2  2020-04-07 16:35:55           3               1                    0   \n",
      "3  2020-04-02 00:56:17           3               1                    0   \n",
      "4  2020-04-05 15:57:41           3               1                    0   \n",
      "\n",
      "   id_obj  CID X LOC_NUM X VENDOR target  \n",
      "0       4         TCHWPBT X 0 X 4      0  \n",
      "1      13        TCHWPBT X 0 X 13      0  \n",
      "2      20        TCHWPBT X 0 X 20      0  \n",
      "3      23        TCHWPBT X 0 X 23      0  \n",
      "4      28        TCHWPBT X 0 X 28      0  \n",
      "\n",
      "[5 rows x 73 columns]\n",
      "           status_x    verified_x  location_number    latitude_x  \\\n",
      "count  5.802400e+06  5.802400e+06     5.802400e+06  5.801800e+06   \n",
      "mean   9.991728e-01  9.715290e-01     7.501379e-01  2.355730e+00   \n",
      "std    2.874995e-02  1.663141e-01     1.329772e+00  2.276045e+01   \n",
      "min    0.000000e+00  0.000000e+00     0.000000e+00 -1.038000e+03   \n",
      "25%    1.000000e+00  1.000000e+00     0.000000e+00 -5.034000e-01   \n",
      "50%    1.000000e+00  1.000000e+00     0.000000e+00 -8.826000e-02   \n",
      "75%    1.000000e+00  1.000000e+00     1.000000e+00  2.610000e-01   \n",
      "max    1.000000e+00  1.000000e+00     2.900000e+01  4.538000e+02   \n",
      "\n",
      "        longitude_x            id  authentication_id    latitude_y  \\\n",
      "count  5.801800e+06  5.802400e+06       5.802400e+06  5.802400e+06   \n",
      "mean  -2.515269e+01  2.888400e+02       1.200508e+05  1.875090e+00   \n",
      "std    3.695347e+01  2.410855e+02       3.491480e+03  2.049340e+01   \n",
      "min   -1.344000e+02  4.000000e+00       1.185970e+05 -1.787000e+00   \n",
      "25%   -7.850000e+01  1.057500e+02       1.187028e+05 -8.091000e-01   \n",
      "50%    2.106500e-02  2.020000e+02       1.188010e+05 -4.934000e-01   \n",
      "75%    5.130000e-01  3.872500e+02       1.189902e+05  1.592250e-02   \n",
      "max    4.534000e+01  9.070000e+02       1.329530e+05  2.052000e+02   \n",
      "\n",
      "        longitude_y  vendor_category_id  ...          rank  vendor_rating  \\\n",
      "count  5.802400e+06        5.802400e+06  ...  5.802400e+06   5.802400e+06   \n",
      "mean   8.037958e-01        2.110000e+00  ...  9.900000e+00   4.350000e+00   \n",
      "std    4.376724e+00        3.128898e-01  ...  3.128898e+00   2.475884e-01   \n",
      "min   -1.449000e+00        2.000000e+00  ...  1.000000e+00   3.200000e+00   \n",
      "25%    8.161500e-02        2.000000e+00  ...  1.100000e+01   4.200000e+00   \n",
      "50%    5.271500e-01        2.000000e+00  ...  1.100000e+01   4.400000e+00   \n",
      "75%    6.448750e-01        2.000000e+00  ...  1.100000e+01   4.500000e+00   \n",
      "max    4.422000e+01        3.000000e+00  ...  1.100000e+01   4.800000e+00   \n",
      "\n",
      "       open_close_flags  country_id    city_id   device_type  display_orders  \\\n",
      "count         5802400.0   5802400.0  5802400.0  5.802400e+06       5802400.0   \n",
      "mean                1.0         1.0        1.0  2.980000e+00             1.0   \n",
      "std                 0.0         0.0        0.0  1.989975e-01             0.0   \n",
      "min                 1.0         1.0        1.0  1.000000e+00             1.0   \n",
      "25%                 1.0         1.0        1.0  3.000000e+00             1.0   \n",
      "50%                 1.0         1.0        1.0  3.000000e+00             1.0   \n",
      "75%                 1.0         1.0        1.0  3.000000e+00             1.0   \n",
      "max                 1.0         1.0        1.0  3.000000e+00             1.0   \n",
      "\n",
      "       location_number_obj        id_obj        target  \n",
      "count         5.802400e+06  5.802400e+06  5.802400e+06  \n",
      "mean          7.501379e-01  2.888400e+02  1.348649e-02  \n",
      "std           1.329772e+00  2.410855e+02  1.153456e-01  \n",
      "min           0.000000e+00  4.000000e+00  0.000000e+00  \n",
      "25%           0.000000e+00  1.057500e+02  0.000000e+00  \n",
      "50%           0.000000e+00  2.020000e+02  0.000000e+00  \n",
      "75%           1.000000e+00  3.872500e+02  0.000000e+00  \n",
      "max           2.900000e+01  9.070000e+02  1.000000e+00  \n",
      "\n",
      "[8 rows x 28 columns]\n"
     ]
    }
   ],
   "source": [
    "# open csv files and store them in a pandas dataset?\n",
    "\n",
    "# read the csv files\n",
    "train_full = pandas.read_csv(file_path)\n",
    "\n",
    "# print the first 5 rows of the dataset\n",
    "print(train_full.head())\n",
    "\n",
    "# print the df into a nice chart\n",
    "print(train_full.describe())"
   ]
  },
  {
   "cell_type": "code",
   "execution_count": 8,
   "metadata": {},
   "outputs": [
    {
     "name": "stdout",
     "output_type": "stream",
     "text": [
      "       customer_id  grand_total  payment_mode  vendor_discount_amount  \\\n",
      "0          92PEE24          7.6             2                     0.0   \n",
      "1          QS68UD8          8.7             1                     0.0   \n",
      "2          MB7VY5F         14.4             1                     0.0   \n",
      "3          KDJ951Y          7.1             1                     0.0   \n",
      "4          BAL0RVT         27.2             1                     0.0   \n",
      "...            ...          ...           ...                     ...   \n",
      "135298     L6LFY6H         13.3             2                     0.0   \n",
      "135299     2GMMVGI          9.5             1                     0.0   \n",
      "135300     LYTAAV0         18.2             2                     0.0   \n",
      "135301     NEV9A5D          7.7             1                     0.0   \n",
      "135302     77KCRC1          6.8             2                     0.0   \n",
      "\n",
      "       is_rated  driver_rating  deliverydistance  vendor_id  \\\n",
      "0            No            0.0              0.00        105   \n",
      "1            No            0.0              0.00        294   \n",
      "2            No            0.0              0.00         83   \n",
      "3            No            0.0              0.00         90   \n",
      "4            No            0.0              0.00         83   \n",
      "...         ...            ...               ...        ...   \n",
      "135298       No            0.0              1.75         67   \n",
      "135299      Yes            4.0             12.81         79   \n",
      "135300       No            0.0             11.15         28   \n",
      "135301       No            0.0              2.29        841   \n",
      "135302       No            0.0              3.92         79   \n",
      "\n",
      "                 created_at  LOCATION_NUMBER CID X LOC_NUM X VENDOR  \n",
      "0       2019-08-01 05:30:16                0      92PEE24 X 0 X 105  \n",
      "1       2019-08-01 05:31:10                0      QS68UD8 X 0 X 294  \n",
      "2       2019-08-01 05:31:33                0       MB7VY5F X 0 X 83  \n",
      "3       2019-08-01 05:34:54                0       KDJ951Y X 0 X 90  \n",
      "4       2019-08-01 05:35:51                0       BAL0RVT X 0 X 83  \n",
      "...                     ...              ...                    ...  \n",
      "135298  2020-02-29 23:47:59                0       L6LFY6H X 0 X 67  \n",
      "135299  2020-02-29 23:48:37                0       2GMMVGI X 0 X 79  \n",
      "135300  2020-02-29 23:48:43                2       LYTAAV0 X 2 X 28  \n",
      "135301  2020-02-29 23:50:10                0      NEV9A5D X 0 X 841  \n",
      "135302  2020-02-29 23:52:14                4       77KCRC1 X 4 X 79  \n",
      "\n",
      "[135303 rows x 11 columns]\n"
     ]
    },
    {
     "name": "stderr",
     "output_type": "stream",
     "text": [
      "/var/folders/9t/xpbsmtsx0xzbs7_6z34b_5yr0000gn/T/ipykernel_11957/880032390.py:1: DtypeWarning: Columns (15,16,18,19,20) have mixed types. Specify dtype option on import or set low_memory=False.\n",
      "  orders = pandas.read_csv(\"data/orders.csv\")\n"
     ]
    }
   ],
   "source": [
    "orders = pandas.read_csv(\"data/orders.csv\")\n",
    "\n",
    "orders_filtered = orders.dropna(axis=1, how='any')\n",
    "\n",
    "#print the orders file that has been filtered\n",
    "print(orders_filtered)"
   ]
  },
  {
   "cell_type": "code",
   "execution_count": 9,
   "metadata": {},
   "outputs": [
    {
     "name": "stdout",
     "output_type": "stream",
     "text": [
      "15.374512760249218\n"
     ]
    }
   ],
   "source": [
    "# The average total for order\n",
    "average_total = orders_filtered['grand_total'].mean()\n",
    "print(average_total)"
   ]
  },
  {
   "cell_type": "code",
   "execution_count": 10,
   "metadata": {},
   "outputs": [
    {
     "name": "stdout",
     "output_type": "stream",
     "text": [
      "<class 'pandas.core.frame.DataFrame'>\n",
      "RangeIndex: 135303 entries, 0 to 135302\n",
      "Data columns (total 11 columns):\n",
      " #   Column                  Non-Null Count   Dtype  \n",
      "---  ------                  --------------   -----  \n",
      " 0   customer_id             135303 non-null  object \n",
      " 1   grand_total             135303 non-null  float64\n",
      " 2   payment_mode            135303 non-null  int64  \n",
      " 3   vendor_discount_amount  135303 non-null  float64\n",
      " 4   is_rated                135303 non-null  object \n",
      " 5   driver_rating           135303 non-null  float64\n",
      " 6   deliverydistance        135303 non-null  float64\n",
      " 7   vendor_id               135303 non-null  int64  \n",
      " 8   created_at              135303 non-null  object \n",
      " 9   LOCATION_NUMBER         135303 non-null  int64  \n",
      " 10  CID X LOC_NUM X VENDOR  135303 non-null  object \n",
      "dtypes: float64(4), int64(3), object(4)\n",
      "memory usage: 11.4+ MB\n"
     ]
    },
    {
     "data": {
      "text/plain": [
       "(  customer_id  grand_total  payment_mode  vendor_discount_amount is_rated  \\\n",
       " 0     92PEE24          7.6             2                     0.0       No   \n",
       " 1     QS68UD8          8.7             1                     0.0       No   \n",
       " 2     MB7VY5F         14.4             1                     0.0       No   \n",
       " 3     KDJ951Y          7.1             1                     0.0       No   \n",
       " 4     BAL0RVT         27.2             1                     0.0       No   \n",
       " \n",
       "    driver_rating  deliverydistance  vendor_id           created_at  \\\n",
       " 0            0.0               0.0        105  2019-08-01 05:30:16   \n",
       " 1            0.0               0.0        294  2019-08-01 05:31:10   \n",
       " 2            0.0               0.0         83  2019-08-01 05:31:33   \n",
       " 3            0.0               0.0         90  2019-08-01 05:34:54   \n",
       " 4            0.0               0.0         83  2019-08-01 05:35:51   \n",
       " \n",
       "    LOCATION_NUMBER CID X LOC_NUM X VENDOR  \n",
       " 0                0      92PEE24 X 0 X 105  \n",
       " 1                0      QS68UD8 X 0 X 294  \n",
       " 2                0       MB7VY5F X 0 X 83  \n",
       " 3                0       KDJ951Y X 0 X 90  \n",
       " 4                0       BAL0RVT X 0 X 83  ,\n",
       " None)"
      ]
     },
     "execution_count": 10,
     "metadata": {},
     "output_type": "execute_result"
    }
   ],
   "source": [
    "orders_filtered.head(), orders_filtered.info()"
   ]
  },
  {
   "cell_type": "code",
   "execution_count": 12,
   "metadata": {},
   "outputs": [
    {
     "name": "stdout",
     "output_type": "stream",
     "text": [
      "       customer_id  grand_total  payment_mode  vendor_discount_amount  \\\n",
      "0          92PEE24          7.6             2                     0.0   \n",
      "1          QS68UD8          8.7             1                     0.0   \n",
      "2          MB7VY5F         14.4             1                     0.0   \n",
      "3          KDJ951Y          7.1             1                     0.0   \n",
      "4          BAL0RVT         27.2             1                     0.0   \n",
      "...            ...          ...           ...                     ...   \n",
      "135298     L6LFY6H         13.3             2                     0.0   \n",
      "135299     2GMMVGI          9.5             1                     0.0   \n",
      "135300     LYTAAV0         18.2             2                     0.0   \n",
      "135301     NEV9A5D          7.7             1                     0.0   \n",
      "135302     77KCRC1          6.8             2                     0.0   \n",
      "\n",
      "       is_rated  driver_rating  deliverydistance  vendor_id  \\\n",
      "0            No            0.0              0.00        105   \n",
      "1            No            0.0              0.00        294   \n",
      "2            No            0.0              0.00         83   \n",
      "3            No            0.0              0.00         90   \n",
      "4            No            0.0              0.00         83   \n",
      "...         ...            ...               ...        ...   \n",
      "135298       No            0.0              1.75         67   \n",
      "135299      Yes            4.0             12.81         79   \n",
      "135300       No            0.0             11.15         28   \n",
      "135301       No            0.0              2.29        841   \n",
      "135302       No            0.0              3.92         79   \n",
      "\n",
      "                 created_at  LOCATION_NUMBER CID X LOC_NUM X VENDOR  \n",
      "0       2019-08-01 05:30:16                0      92PEE24 X 0 X 105  \n",
      "1       2019-08-01 05:31:10                0      QS68UD8 X 0 X 294  \n",
      "2       2019-08-01 05:31:33                0       MB7VY5F X 0 X 83  \n",
      "3       2019-08-01 05:34:54                0       KDJ951Y X 0 X 90  \n",
      "4       2019-08-01 05:35:51                0       BAL0RVT X 0 X 83  \n",
      "...                     ...              ...                    ...  \n",
      "135298  2020-02-29 23:47:59                0       L6LFY6H X 0 X 67  \n",
      "135299  2020-02-29 23:48:37                0       2GMMVGI X 0 X 79  \n",
      "135300  2020-02-29 23:48:43                2       LYTAAV0 X 2 X 28  \n",
      "135301  2020-02-29 23:50:10                0      NEV9A5D X 0 X 841  \n",
      "135302  2020-02-29 23:52:14                4       77KCRC1 X 4 X 79  \n",
      "\n",
      "[135303 rows x 11 columns]\n"
     ]
    }
   ],
   "source": [
    "#Remove missing data in columns from csv\n",
    "# filtered_data = orders_filtered.dropna(subset=['promo_code', 'promo_code_discount_percentage', 'vendor_rating', 'preparationtime', 'ready_for_pickup_time', 'LOCATION_TYPE'])\n",
    "#Save filtered data into csv file into directory \n",
    "orders_filtered.to_csv('data/orders_filtered_cleaned.csv', index=False)\n",
    "print(orders_filtered)\n",
    "\n"
   ]
  },
  {
   "cell_type": "code",
   "execution_count": 13,
   "metadata": {},
   "outputs": [
    {
     "name": "stdout",
     "output_type": "stream",
     "text": [
      "['customer_id', 'gender', 'status_x', 'verified_x', 'created_at_x', 'updated_at_x', 'location_number', 'location_type', 'latitude_x', 'longitude_x', 'id', 'authentication_id', 'latitude_y', 'longitude_y', 'vendor_category_en', 'vendor_category_id', 'delivery_charge', 'serving_distance', 'is_open', 'OpeningTime', 'OpeningTime2', 'prepration_time', 'commission', 'is_akeed_delivering', 'discount_percentage', 'status_y', 'verified_y', 'rank', 'language', 'vendor_rating', 'sunday_from_time1', 'sunday_to_time1', 'sunday_from_time2', 'sunday_to_time2', 'monday_from_time1', 'monday_to_time1', 'monday_from_time2', 'monday_to_time2', 'tuesday_from_time1', 'tuesday_to_time1', 'tuesday_from_time2', 'tuesday_to_time2', 'wednesday_from_time1', 'wednesday_to_time1', 'wednesday_from_time2', 'wednesday_to_time2', 'thursday_from_time1', 'thursday_to_time1', 'thursday_from_time2', 'thursday_to_time2', 'friday_from_time1', 'friday_to_time1', 'friday_from_time2', 'friday_to_time2', 'saturday_from_time1', 'saturday_to_time1', 'saturday_from_time2', 'saturday_to_time2', 'primary_tags', 'open_close_flags', 'vendor_tag', 'vendor_tag_name', 'one_click_vendor', 'country_id', 'city_id', 'created_at_y', 'updated_at_y', 'device_type', 'display_orders', 'location_number_obj', 'id_obj', 'CID X LOC_NUM X VENDOR', 'target']\n"
     ]
    }
   ],
   "source": [
    "# file_path = ('C:/Users/mjafr/OneDrive/Desktop/College stuff/DS 3010 Computational Data Intelligence/Project/Restaurant-Recommendation-Model/train_full.csv')\n",
    "\n",
    "#  Read only the header\n",
    "column_names = pandas.read_csv(file_path, nrows=0).columns.tolist()\n",
    "\n",
    "# Print the column names\n",
    "print(column_names)"
   ]
  },
  {
   "cell_type": "code",
   "execution_count": 14,
   "metadata": {},
   "outputs": [
    {
     "name": "stderr",
     "output_type": "stream",
     "text": [
      "/var/folders/9t/xpbsmtsx0xzbs7_6z34b_5yr0000gn/T/ipykernel_11957/2016433716.py:2: DtypeWarning: Columns (1) have mixed types. Specify dtype option on import or set low_memory=False.\n",
      "  new_filtered_data = pandas.read_csv(file_path).dropna()\n",
      "/var/folders/9t/xpbsmtsx0xzbs7_6z34b_5yr0000gn/T/ipykernel_11957/2016433716.py:4: DtypeWarning: Columns (1) have mixed types. Specify dtype option on import or set low_memory=False.\n",
      "  print(f\"Original shape: {pandas.read_csv(file_path).shape}\")\n"
     ]
    },
    {
     "name": "stdout",
     "output_type": "stream",
     "text": [
      "Original shape: (5802400, 73)\n",
      "Cleaned shape: (427405, 73)\n"
     ]
    }
   ],
   "source": [
    "#Filter the data by removing missing data from the columns\n",
    "new_filtered_data = pandas.read_csv(file_path).dropna()\n",
    "\n",
    "print(f\"Original shape: {pandas.read_csv(file_path).shape}\")\n",
    "print(f\"Cleaned shape: {new_filtered_data.shape}\")"
   ]
  },
  {
   "cell_type": "code",
   "execution_count": 15,
   "metadata": {},
   "outputs": [
    {
     "name": "stdout",
     "output_type": "stream",
     "text": [
      "Cleaned final shape: (427405, 19)\n",
      "new_filtered_data shape: (427405, 71)\n",
      "New_cleaned_data shape: (427405, 61)\n"
     ]
    }
   ],
   "source": [
    "#Remove columns with only one data value\n",
    "\n",
    "# Find columns with only one unique value\n",
    "columns_to_remove = [col for col in new_filtered_data.columns if new_filtered_data[col].nunique() == 1]\n",
    "# Columns with one unique value: ['display_orders', 'country_id', 'open_close_flags', 'status_y', 'verified_x', 'is_open', 'city_id', 'language', 'status_x', 'one_click_vendor', 'device_type', 'is_akeed_delivering', 'verified_y', 'commission']\n",
    "# Drop the identified columns\n",
    "cleaned_data = new_filtered_data.drop(columns=columns_to_remove)\n",
    "\n",
    "#print (cleaned_data.columns)\n",
    "\n",
    "#Remove additional columns for analysis\n",
    "more_useless_columns = ['gender', 'location_type', 'OpeningTime', 'OpeningTime2', 'sunday_from_time1', \n",
    "                 'sunday_to_time1', 'sunday_from_time2', 'sunday_to_time2', 'monday_from_time1',\n",
    "                 'monday_to_time1','monday_from_time2', 'monday_to_time2', 'tuesday_from_time1', \n",
    "                 'tuesday_to_time1', 'tuesday_from_time2', 'tuesday_to_time2', 'wednesday_from_time1',\n",
    "                 'wednesday_to_time1','wednesday_from_time2', 'wednesday_to_time2', 'thursday_from_time1', \n",
    "                 'thursday_to_time1', 'thursday_from_time2', 'thursday_to_time2', 'friday_from_time1', \n",
    "                 'friday_to_time1', 'friday_from_time2', 'friday_to_time2', 'saturday_from_time1', \n",
    "                 'saturday_to_time1', 'saturday_from_time2', 'saturday_to_time2', 'primary_tags']\n",
    "\n",
    "drop_columns = ['status_x', 'verified_x', 'created_at_x', 'updated_at_x',\n",
    "       'authentication_id','vendor_category_en',\n",
    "       'rank', 'created_at_y', 'updated_at_y']\n",
    "\n",
    "final_train_full = new_filtered_data.drop(columns= columns_to_remove + drop_columns + more_useless_columns )\n",
    "\n",
    "print(f\"Cleaned final shape: {final_train_full.shape}\")\n",
    "\n",
    "#Remove the duplicate columns\n",
    "new_filtered_data.drop(columns=['location_number_obj', 'id_obj'], inplace=True)\n",
    "\n",
    "print(f'new_filtered_data shape: {new_filtered_data.shape}')\n",
    "\n",
    "# Print the new shape\n",
    "print(f\"New_cleaned_data shape: {cleaned_data.shape}\")"
   ]
  },
  {
   "cell_type": "code",
   "execution_count": 16,
   "metadata": {},
   "outputs": [
    {
     "name": "stdout",
     "output_type": "stream",
     "text": [
      "        customer_id gender  status_x  verified_x         created_at_x  \\\n",
      "0           TCHWPBT   Male         1           1  2018-02-07 19:16:23   \n",
      "1           TCHWPBT   Male         1           1  2018-02-07 19:16:23   \n",
      "4           TCHWPBT   Male         1           1  2018-02-07 19:16:23   \n",
      "5           TCHWPBT   Male         1           1  2018-02-07 19:16:23   \n",
      "6           TCHWPBT   Male         1           1  2018-02-07 19:16:23   \n",
      "...             ...    ...       ...         ...                  ...   \n",
      "5796941     U42J9LQ   Male         1           1  2020-03-02 21:37:18   \n",
      "5796942     U42J9LQ   Male         1           1  2020-03-02 21:37:18   \n",
      "5796943     U42J9LQ   Male         1           1  2020-03-02 21:37:18   \n",
      "5796960     U42J9LQ   Male         1           1  2020-03-02 21:37:18   \n",
      "5796964     U42J9LQ   Male         1           1  2020-03-02 21:37:18   \n",
      "\n",
      "                updated_at_x location_type  latitude_x  longitude_x   id  ...  \\\n",
      "0        2018-02-07 19:16:23          Work     -96.440     -67.2000    4  ...   \n",
      "1        2018-02-07 19:16:23          Work     -96.440     -67.2000   13  ...   \n",
      "4        2018-02-07 19:16:23          Work     -96.440     -67.2000   28  ...   \n",
      "5        2018-02-07 19:16:23          Work     -96.440     -67.2000   33  ...   \n",
      "6        2018-02-07 19:16:23          Work     -96.440     -67.2000   43  ...   \n",
      "...                      ...           ...         ...          ...  ...  ...   \n",
      "5796941  2020-03-27 21:37:55          Home      -1.036      -0.0985  189  ...   \n",
      "5796942  2020-03-27 21:37:55          Home      -1.036      -0.0985  191  ...   \n",
      "5796943  2020-03-27 21:37:55          Home      -1.036      -0.0985  192  ...   \n",
      "5796960  2020-03-27 21:37:55          Home      -1.036      -0.0985  265  ...   \n",
      "5796964  2020-03-27 21:37:55          Home      -1.036      -0.0985  289  ...   \n",
      "\n",
      "                                           vendor_tag_name  one_click_vendor  \\\n",
      "0        Arabic,Breakfast,Burgers,Desserts,Free Deliver...                 Y   \n",
      "1        Breakfast,Cakes,Crepes,Italian,Pasta,Pizzas,Sa...                 Y   \n",
      "4                                                  Burgers                 Y   \n",
      "5                                         Desserts,Mexican                 Y   \n",
      "6                        American,Burgers,Fries,Sandwiches                 Y   \n",
      "...                                                    ...               ...   \n",
      "5796941  Sandwiches,Shawarma,Fresh Juices,Mojitos,Milks...                 Y   \n",
      "5796942  Fresh Juices,Milkshakes,Mojitos ,Sandwiches,Sh...                 Y   \n",
      "5796943  Fresh Juices,Milkshakes,Mojitos ,Sandwiches,Sh...                 Y   \n",
      "5796960  Desserts,Free Delivery,Fresh Juices,Healthy Fo...                 Y   \n",
      "5796964                    American,Burgers,Fries,Mojitos                  Y   \n",
      "\n",
      "         country_id city_id         created_at_y         updated_at_y  \\\n",
      "0               1.0     1.0  2018-01-30 14:42:04  2020-04-07 15:12:43   \n",
      "1               1.0     1.0  2018-05-03 12:32:06  2020-04-05 20:46:03   \n",
      "4               1.0     1.0  2018-05-17 22:12:38  2020-04-05 15:57:41   \n",
      "5               1.0     1.0  2018-05-24 17:23:13  2020-04-07 15:04:57   \n",
      "6               1.0     1.0  2018-06-20 12:28:00  2020-04-07 16:56:57   \n",
      "...             ...     ...                  ...                  ...   \n",
      "5796941         1.0     1.0  2019-03-04 12:31:26  2020-04-07 13:13:35   \n",
      "5796942         1.0     1.0  2019-03-05 20:06:04  2020-04-06 15:38:01   \n",
      "5796943         1.0     1.0  2019-03-07 15:06:28  2020-04-02 19:35:29   \n",
      "5796960         1.0     1.0  2019-05-23 17:44:42  2020-04-07 01:50:54   \n",
      "5796964         1.0     1.0  2019-06-24 11:33:29  2020-04-05 15:50:22   \n",
      "\n",
      "         device_type  display_orders CID X LOC_NUM X VENDOR target  \n",
      "0                  3               1        TCHWPBT X 0 X 4      0  \n",
      "1                  3               1       TCHWPBT X 0 X 13      0  \n",
      "4                  3               1       TCHWPBT X 0 X 28      0  \n",
      "5                  3               1       TCHWPBT X 0 X 33      0  \n",
      "6                  3               1       TCHWPBT X 0 X 43      0  \n",
      "...              ...             ...                    ...    ...  \n",
      "5796941            3               1      U42J9LQ X 0 X 189      0  \n",
      "5796942            3               1      U42J9LQ X 0 X 191      0  \n",
      "5796943            3               1      U42J9LQ X 0 X 192      0  \n",
      "5796960            3               1      U42J9LQ X 0 X 265      0  \n",
      "5796964            3               1      U42J9LQ X 0 X 289      0  \n",
      "\n",
      "[251921 rows x 70 columns]\n"
     ]
    }
   ],
   "source": [
    "#Filter out data with customer location number other than 0\n",
    "new_filtered_data = new_filtered_data[new_filtered_data['location_number']==0]\n",
    "\n",
    "#Drop the column\n",
    "new_filtered_data.drop(columns=['location_number'], inplace =True)\n",
    "\n",
    "#Save cleaned data into directory \n",
    "final_train_full.to_csv('./data/sm_train_full.csv', index = False)\n",
    "\n",
    "print(new_filtered_data)"
   ]
  },
  {
   "cell_type": "code",
   "execution_count": 17,
   "metadata": {},
   "outputs": [
    {
     "name": "stdout",
     "output_type": "stream",
     "text": [
      "        customer_id gender  status_x  verified_x         created_at_x  \\\n",
      "0           TCHWPBT   Male         1           1  2018-02-07 19:16:23   \n",
      "1           TCHWPBT   Male         1           1  2018-02-07 19:16:23   \n",
      "4           TCHWPBT   Male         1           1  2018-02-07 19:16:23   \n",
      "5           TCHWPBT   Male         1           1  2018-02-07 19:16:23   \n",
      "6           TCHWPBT   Male         1           1  2018-02-07 19:16:23   \n",
      "...             ...    ...       ...         ...                  ...   \n",
      "5796941     U42J9LQ   Male         1           1  2020-03-02 21:37:18   \n",
      "5796942     U42J9LQ   Male         1           1  2020-03-02 21:37:18   \n",
      "5796943     U42J9LQ   Male         1           1  2020-03-02 21:37:18   \n",
      "5796960     U42J9LQ   Male         1           1  2020-03-02 21:37:18   \n",
      "5796964     U42J9LQ   Male         1           1  2020-03-02 21:37:18   \n",
      "\n",
      "                updated_at_x  location_number location_type  latitude_x  \\\n",
      "0        2018-02-07 19:16:23                0          Work     -96.440   \n",
      "1        2018-02-07 19:16:23                0          Work     -96.440   \n",
      "4        2018-02-07 19:16:23                0          Work     -96.440   \n",
      "5        2018-02-07 19:16:23                0          Work     -96.440   \n",
      "6        2018-02-07 19:16:23                0          Work     -96.440   \n",
      "...                      ...              ...           ...         ...   \n",
      "5796941  2020-03-27 21:37:55                0          Home      -1.036   \n",
      "5796942  2020-03-27 21:37:55                0          Home      -1.036   \n",
      "5796943  2020-03-27 21:37:55                0          Home      -1.036   \n",
      "5796960  2020-03-27 21:37:55                0          Home      -1.036   \n",
      "5796964  2020-03-27 21:37:55                0          Home      -1.036   \n",
      "\n",
      "         longitude_x  ...  saturday_to_time2            primary_tags  \\\n",
      "0           -67.2000  ...           23:59:00    {\"primary_tags\":\"4\"}   \n",
      "1           -67.2000  ...           23:59:00    {\"primary_tags\":\"7\"}   \n",
      "4           -67.2000  ...           23:59:00   {\"primary_tags\":\"32\"}   \n",
      "5           -67.2000  ...           01:00:00   {\"primary_tags\":\"51\"}   \n",
      "6           -67.2000  ...           23:59:00    {\"primary_tags\":\"8\"}   \n",
      "...              ...  ...                ...                     ...   \n",
      "5796941      -0.0985  ...           23:59:00  {\"primary_tags\":\"701\"}   \n",
      "5796942      -0.0985  ...           23:59:00  {\"primary_tags\":\"701\"}   \n",
      "5796943      -0.0985  ...           23:59:00  {\"primary_tags\":\"701\"}   \n",
      "5796960      -0.0985  ...           23:59:00   {\"primary_tags\":\"28\"}   \n",
      "5796964      -0.0985  ...           23:59:00    {\"primary_tags\":\"8\"}   \n",
      "\n",
      "                        vendor_tag  \\\n",
      "0        2,4,5,8,91,22,12,24,16,23   \n",
      "1        4,41,51,34,27,15,24,16,28   \n",
      "4                                5   \n",
      "5                             8,42   \n",
      "6                        1,5,30,16   \n",
      "...                            ...   \n",
      "5796941             16,23,38,52,32   \n",
      "5796942             38,32,52,16,23   \n",
      "5796943             38,32,52,16,23   \n",
      "5796960         8,91,38,9,43,32,52   \n",
      "5796964                  1,5,30,52   \n",
      "\n",
      "                                           vendor_tag_name  \\\n",
      "0        Arabic,Breakfast,Burgers,Desserts,Free Deliver...   \n",
      "1        Breakfast,Cakes,Crepes,Italian,Pasta,Pizzas,Sa...   \n",
      "4                                                  Burgers   \n",
      "5                                         Desserts,Mexican   \n",
      "6                        American,Burgers,Fries,Sandwiches   \n",
      "...                                                    ...   \n",
      "5796941  Sandwiches,Shawarma,Fresh Juices,Mojitos,Milks...   \n",
      "5796942  Fresh Juices,Milkshakes,Mojitos ,Sandwiches,Sh...   \n",
      "5796943  Fresh Juices,Milkshakes,Mojitos ,Sandwiches,Sh...   \n",
      "5796960  Desserts,Free Delivery,Fresh Juices,Healthy Fo...   \n",
      "5796964                    American,Burgers,Fries,Mojitos    \n",
      "\n",
      "                created_at_y         updated_at_y  location_number_obj  \\\n",
      "0        2018-01-30 14:42:04  2020-04-07 15:12:43                    0   \n",
      "1        2018-05-03 12:32:06  2020-04-05 20:46:03                    0   \n",
      "4        2018-05-17 22:12:38  2020-04-05 15:57:41                    0   \n",
      "5        2018-05-24 17:23:13  2020-04-07 15:04:57                    0   \n",
      "6        2018-06-20 12:28:00  2020-04-07 16:56:57                    0   \n",
      "...                      ...                  ...                  ...   \n",
      "5796941  2019-03-04 12:31:26  2020-04-07 13:13:35                    0   \n",
      "5796942  2019-03-05 20:06:04  2020-04-06 15:38:01                    0   \n",
      "5796943  2019-03-07 15:06:28  2020-04-02 19:35:29                    0   \n",
      "5796960  2019-05-23 17:44:42  2020-04-07 01:50:54                    0   \n",
      "5796964  2019-06-24 11:33:29  2020-04-05 15:50:22                    0   \n",
      "\n",
      "         id_obj CID X LOC_NUM X VENDOR target  \n",
      "0             4        TCHWPBT X 0 X 4      0  \n",
      "1            13       TCHWPBT X 0 X 13      0  \n",
      "4            28       TCHWPBT X 0 X 28      0  \n",
      "5            33       TCHWPBT X 0 X 33      0  \n",
      "6            43       TCHWPBT X 0 X 43      0  \n",
      "...         ...                    ...    ...  \n",
      "5796941     189      U42J9LQ X 0 X 189      0  \n",
      "5796942     191      U42J9LQ X 0 X 191      0  \n",
      "5796943     192      U42J9LQ X 0 X 192      0  \n",
      "5796960     265      U42J9LQ X 0 X 265      0  \n",
      "5796964     289      U42J9LQ X 0 X 289      0  \n",
      "\n",
      "[427405 rows x 61 columns]\n"
     ]
    }
   ],
   "source": [
    "#Display cleaned data\n",
    "print(cleaned_data)"
   ]
  },
  {
   "cell_type": "code",
   "execution_count": 18,
   "metadata": {},
   "outputs": [],
   "source": [
    "#Below is a list of features we want to add:\n",
    "#Has ordered here before: binary (orders.csv) \n",
    "#Grand total: Average across customer’s order from vendor. (orders.csv) \n",
    "#Is_favorite: Set missing equal to 0, 1 otherwise. (orders.csv) \n",
    "#Distance between customer location and vendor location (train_full) \n",
    "#Number of times customer has ordered from this vendor tag (orders.csv) \n",
    "#One-hot encoding of vendor tag (train_full/vendors.csv) \n",
    "#Is_rated and vendor_rating (orders.csv) "
   ]
  }
 ],
 "metadata": {
  "kernelspec": {
   "display_name": "rrr",
   "language": "python",
   "name": "python3"
  },
  "language_info": {
   "codemirror_mode": {
    "name": "ipython",
    "version": 3
   },
   "file_extension": ".py",
   "mimetype": "text/x-python",
   "name": "python",
   "nbconvert_exporter": "python",
   "pygments_lexer": "ipython3",
   "version": "3.13.0"
  }
 },
 "nbformat": 4,
 "nbformat_minor": 2
}
